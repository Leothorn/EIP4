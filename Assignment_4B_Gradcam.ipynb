{
  "nbformat": 4,
  "nbformat_minor": 0,
  "metadata": {
    "colab": {
      "name": "Assignment_4B_Gradcam.ipynb",
      "provenance": [],
      "private_outputs": true,
      "include_colab_link": true
    },
    "kernelspec": {
      "name": "python3",
      "display_name": "Python 3"
    }
  },
  "cells": [
    {
      "cell_type": "markdown",
      "metadata": {
        "id": "view-in-github",
        "colab_type": "text"
      },
      "source": [
        "<a href=\"https://colab.research.google.com/github/Leothorn/EIP4/blob/master/Assignment_4B_Gradcam.ipynb\" target=\"_parent\"><img src=\"https://colab.research.google.com/assets/colab-badge.svg\" alt=\"Open In Colab\"/></a>"
      ]
    },
    {
      "cell_type": "code",
      "metadata": {
        "id": "WaqbidYIDiHB",
        "colab_type": "code",
        "colab": {}
      },
      "source": [
        "from skimage import io\n",
        "from keras import backend as K\n",
        "from keras.applications.vgg16 import VGG16, preprocess_input, decode_predictions\n",
        "from keras.preprocessing import image\n",
        "import numpy as np\n",
        "import cv2"
      ],
      "execution_count": 0,
      "outputs": []
    },
    {
      "cell_type": "code",
      "metadata": {
        "id": "W1TBtTvbMJxv",
        "colab_type": "code",
        "colab": {}
      },
      "source": [
        "model = VGG16(weights=\"imagenet\")\n",
        "def process_image(url):\n",
        "  img = io.imread(url)\n",
        "  img = cv2.resize(img, dsize=(224, 224), interpolation=cv2.INTER_CUBIC)\n",
        "  x = image.img_to_array(img)\n",
        "  x = np.expand_dims(x, axis=0)\n",
        "  x = preprocess_input(x)\n",
        "\n",
        "  #predict\n",
        "  preds = model.predict(x)\n",
        "  class_idx = np.argmax(preds[0])\n",
        "  print(class_idx)\n",
        "  class_output = model.output[:, class_idx]\n",
        "  last_conv_layer = model.get_layer(\"block5_conv3\")\n",
        "\n",
        "  \n",
        "  grads = K.gradients(class_output, last_conv_layer.output)[0]\n",
        "  print(grads.shape)\n",
        "  pooled_grads = K.mean(grads, axis=(0, 1, 2))\n",
        "  print(pooled_grads.shape)\n",
        "  iterate = K.function([model.input], [pooled_grads, last_conv_layer.output[0]])\n",
        "\n",
        "  pooled_grads_value, conv_layer_output_value = iterate([x])\n",
        "\n",
        "  for i in range(512):\n",
        "    conv_layer_output_value[:, :, i] *= pooled_grads_value[i]\n",
        "\n",
        "  #heat map is calculated\n",
        "  heatmap = np.mean(conv_layer_output_value, axis = -1)\n",
        "  print(conv_layer_output_value.shape)\n",
        "  print(heatmap.shape)\n",
        "  heatmap = np.maximum(heatmap, 0)\n",
        "  heatmap /= np.max(heatmap)\n",
        "  \n",
        "  #display is shown\n",
        "  heatmap = cv2.resize(heatmap, (img.shape[1], img.shape[0]))\n",
        "  heatmap = np.uint8(255 * heatmap)\n",
        "  heatmap = cv2.applyColorMap(heatmap, cv2.COLORMAP_JET)\n",
        "  superimposed_img = cv2.addWeighted(img, 0.5, heatmap, 0.5, 0)\n",
        "  from google.colab.patches import cv2_imshow\n",
        "  cv2_imshow(img)\n",
        "  cv2_imshow(superimposed_img)"
      ],
      "execution_count": 0,
      "outputs": []
    },
    {
      "cell_type": "code",
      "metadata": {
        "id": "8greHU9EMQkU",
        "colab_type": "code",
        "colab": {}
      },
      "source": [
        "process_image(\"https://media.wired.com/photos/5d431d302e0f3a00086b08ec/master/w_2560%2Cc_limit/Science_husky-1093906290.jpg\")"
      ],
      "execution_count": 0,
      "outputs": []
    },
    {
      "cell_type": "code",
      "metadata": {
        "id": "gCw2v2AzMUHb",
        "colab_type": "code",
        "colab": {}
      },
      "source": [
        "process_image(\"https://images2.minutemediacdn.com/image/upload/c_crop,h_1689,w_3000,x_0,y_404/f_auto,q_auto,w_1100/v1563809078/shape/mentalfloss/28865-gettyimages-500694766.jpg\")"
      ],
      "execution_count": 0,
      "outputs": []
    },
    {
      "cell_type": "code",
      "metadata": {
        "id": "TIg7OSbLNCt0",
        "colab_type": "code",
        "colab": {}
      },
      "source": [
        "process_image(\"https://hips.hearstapps.com/hmg-prod.s3.amazonaws.com/images/most-loyal-dog-breeds-st-bernard-1571189105.jpg?crop=0.667xw:1.00xh;0.173xw,0&resize=640:*\")"
      ],
      "execution_count": 0,
      "outputs": []
    },
    {
      "cell_type": "code",
      "metadata": {
        "id": "l7b0A9SCNKN9",
        "colab_type": "code",
        "colab": {}
      },
      "source": [
        "process_image(\"https://encrypted-tbn0.gstatic.com/images?q=tbn:ANd9GcQO1RaTe7408ndb3KdiLZZ9IwTqga4ecAWEv8xpHqazCMMlqgapzA&s\")"
      ],
      "execution_count": 0,
      "outputs": []
    },
    {
      "cell_type": "code",
      "metadata": {
        "id": "VWQFk7oqNVQe",
        "colab_type": "code",
        "colab": {}
      },
      "source": [
        "process_image(\"https://encrypted-tbn0.gstatic.com/images?q=tbn:ANd9GcTkVkZJvz_IGYZ8lIR90IsDp4G6qiVVqsYZpBm9KLEPZT-5dnBY&s\")"
      ],
      "execution_count": 0,
      "outputs": []
    },
    {
      "cell_type": "code",
      "metadata": {
        "id": "o8J9WZabNfPw",
        "colab_type": "code",
        "colab": {}
      },
      "source": [
        "process_image(\"https://encrypted-tbn0.gstatic.com/images?q=tbn:ANd9GcTWdtflngak9wUuk_vZq3xGFuRYLSOwkRf6PLMFttsk25j6isJBlw&s\")"
      ],
      "execution_count": 0,
      "outputs": []
    },
    {
      "cell_type": "code",
      "metadata": {
        "id": "acblfyk9NrRa",
        "colab_type": "code",
        "colab": {}
      },
      "source": [
        "process_image(\"https://encrypted-tbn0.gstatic.com/images?q=tbn:ANd9GcTjMjgxDDvb-xju_XYe3j5U2vH7CTbaYkCHgyvm5Q5s-KfTIvNIWw&s\")"
      ],
      "execution_count": 0,
      "outputs": []
    },
    {
      "cell_type": "code",
      "metadata": {
        "id": "y4xogs1uNxXf",
        "colab_type": "code",
        "colab": {}
      },
      "source": [
        "process_image(\"https://encrypted-tbn0.gstatic.com/images?q=tbn:ANd9GcRNLjVFgVLkVYH0BOfzVYlbfr690Gsk1qFOM_yIlDMFrF4wdaIFtQ&s\")"
      ],
      "execution_count": 0,
      "outputs": []
    },
    {
      "cell_type": "code",
      "metadata": {
        "id": "fUW_4_XvOk0n",
        "colab_type": "code",
        "colab": {}
      },
      "source": [
        "process_image(\"https://i.pinimg.com/236x/24/5e/bd/245ebd9947054b1ed972ccab73870d31--doggies-dachshunds.jpg\")"
      ],
      "execution_count": 0,
      "outputs": []
    },
    {
      "cell_type": "code",
      "metadata": {
        "id": "crGJ2-oFOvma",
        "colab_type": "code",
        "colab": {}
      },
      "source": [
        "process_image(\"https://encrypted-tbn0.gstatic.com/images?q=tbn:ANd9GcTPdyC8Rgd6llUaV-rMI-Fqp580z6enJbaCAbl2pxvsU0j4Dy_SdA&s\")"
      ],
      "execution_count": 0,
      "outputs": []
    },
    {
      "cell_type": "code",
      "metadata": {
        "id": "YhQ4tq_OO1bj",
        "colab_type": "code",
        "colab": {}
      },
      "source": [
        ""
      ],
      "execution_count": 0,
      "outputs": []
    }
  ]
}